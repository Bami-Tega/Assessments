{
 "cells": [
  {
   "cell_type": "markdown",
   "metadata": {},
   "source": [
    "# Data science assessment   "
   ]
  },
  {
   "cell_type": "markdown",
   "metadata": {},
   "source": [
    "This assessment has a few sections but it is up to you to decide which questions to complete given a limit of one hour and **NO** googling.\n",
    "\n",
    "Topics:\n",
    "- Statistics\n",
    "- Linux\n",
    "- Spark\n",
    "- Python\n",
    "- Mathematics"
   ]
  },
  {
   "cell_type": "markdown",
   "metadata": {},
   "source": [
    "# Statistics"
   ]
  },
  {
   "cell_type": "markdown",
   "metadata": {},
   "source": [
    "1.1 At what rate does the expression below converge:\n",
    "$$ \\frac{\\bar{X} - \\mu}{\\sigma / \\sqrt{n}} $$"
   ]
  },
  {
   "cell_type": "markdown",
   "metadata": {},
   "source": [
    "1.2 In the context of machine learning (ensembles) and mean squared error (MSE):"
   ]
  },
  {
   "cell_type": "markdown",
   "metadata": {},
   "source": [
    "1.2.1 Define the mean squared error \n",
    "\n",
    "1.2.2 The method of bagging, e.g. random forest, reduces _________ at the expense of increasing ________\n",
    "\n",
    "1.2.3 The method of boosting, e.g. gradient boosting, reduces _________ at the expense of increasing ________"
   ]
  },
  {
   "cell_type": "markdown",
   "metadata": {},
   "source": [
    "1.3 For the following hypothesis draw a conclusion given a significance level of $\\alpha =\n",
    "0.05$:"
   ]
  },
  {
   "cell_type": "markdown",
   "metadata": {},
   "source": [
    "$$ H_{0}: \\beta_{1} = 0 \\text{ vs. } H_{A}: \\beta_{1} \\neq 0$$ "
   ]
  },
  {
   "cell_type": "markdown",
   "metadata": {},
   "source": [
    "1.3.1 $p$-value = 0.0006754 Conclusion:\n",
    "\n",
    "1.3.2 $p$-value = 0.5489256 Conclusion:"
   ]
  },
  {
   "cell_type": "markdown",
   "metadata": {},
   "source": [
    "1.4 Given a binary (0, 1) prediction problem and a dataset, list all steps you would\n",
    "follow for building a classification model?"
   ]
  },
  {
   "cell_type": "markdown",
   "metadata": {},
   "source": [
    "1.5 What is the consequence/s of multicollinearity on a logistic regression model? Please describe the problem with respect to matrices and why it is an issue?"
   ]
  },
  {
   "cell_type": "markdown",
   "metadata": {},
   "source": [
    "# Linux"
   ]
  },
  {
   "cell_type": "markdown",
   "metadata": {},
   "source": [
    "2.1 Explain the difference between a VM and docker container \n"
   ]
  },
  {
   "cell_type": "markdown",
   "metadata": {},
   "source": [
    "2.2 What are symbolic links?"
   ]
  },
  {
   "cell_type": "markdown",
   "metadata": {},
   "source": [
    "2.3 Which command would you use to change file permissions in Linux? And how many permission levels can one set?"
   ]
  },
  {
   "cell_type": "markdown",
   "metadata": {},
   "source": [
    "2.4 What does the following command do?: $\\text{du -cksh *}$"
   ]
  },
  {
   "cell_type": "markdown",
   "metadata": {},
   "source": [
    "2.5 Is this a good idea?: $\\text{sudo rm -rf /}$"
   ]
  },
  {
   "cell_type": "markdown",
   "metadata": {},
   "source": [
    "2.6 systemd vs. other init systems (openRC, ...), do you have an opinion?"
   ]
  },
  {
   "cell_type": "markdown",
   "metadata": {},
   "source": [
    "# Spark"
   ]
  },
  {
   "cell_type": "markdown",
   "metadata": {},
   "source": [
    "3.1 What is shuffling?"
   ]
  },
  {
   "cell_type": "markdown",
   "metadata": {},
   "source": [
    "3.2 Why is shuffling an important performance consideration when processing large datasets?"
   ]
  },
  {
   "cell_type": "markdown",
   "metadata": {},
   "source": [
    "3.3 Suppose we wish to join one small dataframe with one large dataframe. What is typically a good optimisation to consider?"
   ]
  },
  {
   "cell_type": "markdown",
   "metadata": {},
   "source": [
    "3.4 What are typical causes of excessive cpu time spent on garbage collection and how would one address the issue?"
   ]
  },
  {
   "cell_type": "markdown",
   "metadata": {},
   "source": [
    "3.5 What issues arise when one calls the .toPandas() member function of a very large spark dataframe?"
   ]
  },
  {
   "cell_type": "markdown",
   "metadata": {},
   "source": [
    "3.6 Why does the above issue arise? Put differently, what happens under the hood for this to happen?"
   ]
  },
  {
   "cell_type": "markdown",
   "metadata": {},
   "source": [
    "3.7 What are the necessary considerations when choosing between UDFs and spark native functions?"
   ]
  },
  {
   "cell_type": "markdown",
   "metadata": {},
   "source": [
    "# Python"
   ]
  },
  {
   "cell_type": "markdown",
   "metadata": {},
   "source": [
    "### 4.1 Performance\n",
    "\n",
    "Suppose the `get_resource_identifier` function interrogates some cloud infrastructure to resolve the resource identifier from its name. Note that it takes a long time for the call to finish resolving the name.\n",
    "\n",
    "Now imagine that we need to resolve the resource by its name multiple times during deployment of infrastructure. How can we speed this up without modifying the body of the `get_resource_identifier` function? Remember, you have no control over how quickly the cloud provider can respond to your API call."
   ]
  },
  {
   "cell_type": "code",
   "execution_count": null,
   "metadata": {},
   "outputs": [],
   "source": [
    "# 4.1.1\n",
    "import time\n",
    "def get_resource_identifier(name):\n",
    "    time.sleep(1)#simulate the delay\n",
    "    if name is 'foo':\n",
    "        return 'L9UKvnomjq'\n",
    "    if name is 'bar':\n",
    "        return '7U9eyOv7M'\n",
    "    return 'Not found'\n",
    "\n",
    "for _ in range(0,100):\n",
    "    print(get_resource_identifier('foo'))\n",
    "    print(get_resource_identifier('bar'))\n",
    "    print(get_resource_identifier('foo'))\n",
    "    print(get_resource_identifier('zoo'))\n",
    "    print(get_resource_identifier('bar'))"
   ]
  },
  {
   "cell_type": "markdown",
   "metadata": {},
   "source": [
    "#### 4.2 Refactor\n",
    "The section below is an opportunity for you to demonstrate how you refactor code into something simpler and more readable. Refactor the code and write some very simple sanity checks to show that the refactored version is equivalent to the ugly version. You may leave out tests where you think it is not needed."
   ]
  },
  {
   "cell_type": "code",
   "execution_count": null,
   "metadata": {},
   "outputs": [],
   "source": [
    "# 4.2.1\n",
    "# Don't modify this\n",
    "colours = ['blue','green','yellow','black','orange']\n",
    "fruits = ['berry','apple','banana','currant']\n",
    "# All of the rest below you may modify \n",
    "# as you please to achieve the desired output"
   ]
  },
  {
   "cell_type": "code",
   "execution_count": null,
   "metadata": {},
   "outputs": [],
   "source": [
    "# 4.2.2\n",
    "#ugly\n",
    "for i in range(len(colours)-1,-1,-1):\n",
    "    print(colours[i])\n",
    "\n",
    "#refactor below"
   ]
  },
  {
   "cell_type": "code",
   "execution_count": null,
   "metadata": {},
   "outputs": [],
   "source": [
    "# 4.2.3\n",
    "#ugly\n",
    "for i in range(len(colours)):\n",
    "    print(i,colours[i])\n",
    "    \n",
    "#refactor below"
   ]
  },
  {
   "cell_type": "code",
   "execution_count": null,
   "metadata": {},
   "outputs": [],
   "source": [
    "# 4.2.4\n",
    "#ugly\n",
    "min_length = min(len(colours),len(fruits))\n",
    "for i in range(min_length):\n",
    "    print(colours[i],fruits[i])\n",
    "    \n",
    "#refactor below"
   ]
  },
  {
   "cell_type": "markdown",
   "metadata": {},
   "source": [
    "#### 4.3 Implement\n",
    "This section provides an opportunity to demonstrate how you would write some very simple things in a pythonic way."
   ]
  },
  {
   "cell_type": "code",
   "execution_count": null,
   "metadata": {},
   "outputs": [],
   "source": [
    "# 4.3.1\n",
    "#Generate the following string from the colours list defined above:\n",
    "# 'blue --> green --> yellow --> black --> orange'"
   ]
  },
  {
   "cell_type": "code",
   "execution_count": null,
   "metadata": {},
   "outputs": [],
   "source": [
    "# 4.3.2\n",
    "# find the elements that exist in the first list but not the second\n",
    "# and the elements that exist in the second, but not in the first\n",
    "# put this result in into a single list and sort them in ascending order\n",
    "\n",
    "\n",
    "first = [2,2,5,6,7,2,1,8,9,9]\n",
    "second = [2,1,5,6,66,7,77]"
   ]
  },
  {
   "cell_type": "markdown",
   "metadata": {},
   "source": [
    "# Mathematics"
   ]
  },
  {
   "cell_type": "markdown",
   "metadata": {},
   "source": [
    "5.1 Determine the positive real number $a$ for which $$\\sqrt{ \\int^{a}_{0} x \\text{ }dx} = \\int^{a}_{0} \\sqrt{x} \\text{ } dx$$"
   ]
  },
  {
   "cell_type": "markdown",
   "metadata": {},
   "source": [
    "5.2 Suppose that the three real numbers $x, y, z$ satisfy the system of equations\n",
    "$$\\begin{array}{rcl} 2^{x}\\cdot4^{y}\\cdot16^{z} = 1, & \\\\ 4^{x}\\cdot16^{y}\\cdot2^{z} = 2, & \\\\ 16^{x}\\cdot2^{y}\\cdot4^{z} = 4. &  \\end{array}$$\n",
    "What is the value of $y$?"
   ]
  },
  {
   "cell_type": "markdown",
   "metadata": {},
   "source": [
    "5.3 Determine the integral $$\\lim_{x\\to 2013} \\frac{\\sin(\\pi x)}{x-2013}$$"
   ]
  },
  {
   "cell_type": "markdown",
   "metadata": {},
   "source": [
    "5.4 For which value of $a$ does the following system of equations have no solution?\n",
    "\\begin{array}{rcl} x + 2y = 5, & \\\\ -3x + ay = 1. & \\\\ \\end{array}"
   ]
  }
 ],
 "metadata": {
  "kernelspec": {
   "display_name": "Python 3",
   "language": "python",
   "name": "python3"
  },
  "language_info": {
   "codemirror_mode": {
    "name": "ipython",
    "version": 3
   },
   "file_extension": ".py",
   "mimetype": "text/x-python",
   "name": "python",
   "nbconvert_exporter": "python",
   "pygments_lexer": "ipython3",
   "version": "3.7.7"
  }
 },
 "nbformat": 4,
 "nbformat_minor": 4
}
